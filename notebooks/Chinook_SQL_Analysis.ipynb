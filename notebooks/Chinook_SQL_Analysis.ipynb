{
 "cells": [
  {
   "cell_type": "markdown",
   "id": "afa7ad87-5a51-4512-a863-3d58657e4019",
   "metadata": {},
   "source": [
    "# 🎵 Chinook SQL Analysis\n",
    "**By Precious Ubong Fiberesima**\n",
    "\n",
    "This project explores the Chinook digital music store database using SQL. The goal is to derive insights into sales trends, customer behavior, employee support activity, and music genre performance.\n",
    "\n",
    "---"
   ]
  },
  {
   "cell_type": "code",
   "execution_count": null,
   "id": "42d2aaab-fc9c-495f-b36c-02eb215aeae2",
   "metadata": {},
   "outputs": [],
   "source": [
    "#Setup & Database Connection (Code)\n",
    "# Load SQL extension and connect to Chinook DB\n",
    "%load_ext sql\n",
    "%sql sqlite:///chinook.db\n"
   ]
  },
  {
   "cell_type": "markdown",
   "id": "55db3c0d-f0db-422f-8989-54b90b8c9724",
   "metadata": {},
   "source": [
    "## 🔍 Database Overview\n",
    "\n",
    "The Chinook database contains multiple related tables, including:\n",
    "\n",
    "- Customers\n",
    "- Invoices\n",
    "- InvoiceLines\n",
    "- Employees\n",
    "- Tracks\n",
    "- Albums\n",
    "- Artists\n",
    "- Genres\n",
    "- MediaTypes\n",
    "\n",
    "Let’s start by viewing all available tables and their columns.\n"
   ]
  },
  {
   "cell_type": "code",
   "execution_count": null,
   "id": "992e3cb5-8ea5-47b4-bfa4-2cfd4ef802ca",
   "metadata": {},
   "outputs": [],
   "source": [
    "#  List Tables\n",
    "%%sql\n",
    "SELECT name FROM sqlite_master WHERE type='table';\n"
   ]
  },
  {
   "cell_type": "code",
   "execution_count": null,
   "id": "932b782b-d618-4547-a4be-933c97c083f2",
   "metadata": {},
   "outputs": [],
   "source": [
    "#View Table Schemas\n",
    "tables = %sql SELECT name FROM sqlite_master WHERE type='table';\n",
    "for table in tables:\n",
    "    display(Markdown(f\"### 🔸 {table[0]} Columns\"))\n",
    "    display(%sql PRAGMA table_info({table[0]}))\n"
   ]
  },
  {
   "cell_type": "markdown",
   "id": "f831b016-a414-4ed8-93f5-65d1bf4e35bc",
   "metadata": {},
   "source": [
    "## 💰1. Sales & Revenue Analysis\n",
    "\n",
    "We’ll explore total sales, top tracks, popular genres, and country-wise revenue.\n"
   ]
  },
  {
   "cell_type": "code",
   "execution_count": null,
   "id": "3485b387-a065-4be8-8ed0-1ac2fe9ea26c",
   "metadata": {},
   "outputs": [],
   "source": [
    "%%sql\n",
    "--Top 5 Selling Tracks by Total Revenue\n",
    "\n",
    "SELECT t.Name AS Track_Name, \n",
    "       ROUND(SUM(il.UnitPrice * il.Quantity), 2) AS Total_Revenue\n",
    "FROM InvoiceLines il\n",
    "JOIN Tracks t ON il.TrackId = t.TrackId\n",
    "GROUP BY t.TrackId\n",
    "ORDER BY Total_Revenue DESC\n",
    "LIMIT 5;\n"
   ]
  },
  {
   "cell_type": "code",
   "execution_count": null,
   "id": "612ffc4b-3125-4f2e-885c-167f154bb790",
   "metadata": {},
   "outputs": [],
   "source": [
    "%%sql\n",
    "--- Revenue per Genre\n",
    "\n",
    "SELECT g.Name AS Genre, \n",
    "       ROUND(SUM(il.UnitPrice * il.Quantity), 2) AS Total_Revenue\n",
    "FROM InvoiceLines il\n",
    "JOIN Tracks t ON il.TrackId = t.TrackId\n",
    "JOIN Genres g ON t.GenreId = g.GenreId\n",
    "GROUP BY g.GenreId\n",
    "ORDER BY Total_Revenue DESC;\n"
   ]
  },
  {
   "cell_type": "code",
   "execution_count": null,
   "id": "09d7deda-d82c-43e8-afe7-9a52fc7963fc",
   "metadata": {},
   "outputs": [],
   "source": [
    "%%sql\n",
    "---TOTAL SALES BY COUNTRY\n",
    "\n",
    "SELECT c.Country,\n",
    "       ROUND(SUM(il.UnitPrice * il.Quantity), 2) AS Total_Sales\n",
    "FROM Customers c\n",
    "JOIN Invoices i ON c.CustomerId = i.CustomerId\n",
    "JOIN InvoiceLines il ON i.InvoiceId = il.InvoiceId\n",
    "GROUP BY c.Country\n",
    "ORDER BY Total_Sales DESC;\n",
    "\n"
   ]
  },
  {
   "cell_type": "markdown",
   "id": "67e7e03c-f55e-4c03-82d6-747ab12d1eab",
   "metadata": {},
   "source": [
    "## 2. Customer Behaviour Analysis"
   ]
  },
  {
   "cell_type": "code",
   "execution_count": null,
   "id": "3afcddcb-1333-47bc-8677-74a2fa92b9d7",
   "metadata": {},
   "outputs": [],
   "source": [
    "%%sql\n",
    "---Top 5 Customers by Total Spend\n",
    "\n",
    "SELECT c.FirstName || ' ' || c.LastName AS Customer_Name,\n",
    "       ROUND(SUM(il.UnitPrice * il.Quantity), 2) AS Total_Spent\n",
    "FROM Customers c\n",
    "JOIN Invoices i ON c.CustomerId = i.CustomerId\n",
    "JOIN InvoiceLines il ON i.InvoiceId = il.InvoiceId\n",
    "GROUP BY c.CustomerId\n",
    "ORDER BY Total_Spent DESC\n",
    "LIMIT 5;\n"
   ]
  },
  {
   "cell_type": "code",
   "execution_count": null,
   "id": "b9b00b8e-4fc6-4d55-910c-5da8402c414f",
   "metadata": {},
   "outputs": [],
   "source": [
    "%%sql\n",
    "---- Invoices per Customer (Average)\n",
    "\n",
    "SELECT ROUND(AVG(invoice_count), 2) AS Avg_Invoices_Per_Customer\n",
    "FROM (\n",
    "    SELECT CustomerId, COUNT(*) AS invoice_count\n",
    "    FROM Invoices\n",
    "    GROUP BY CustomerId\n",
    ");\n"
   ]
  },
  {
   "cell_type": "code",
   "execution_count": null,
   "id": "031e1c6d-4377-4c86-b8c3-16ba6325bce5",
   "metadata": {},
   "outputs": [],
   "source": [
    "%%sql\n",
    "----Active Customers by City\n",
    "SELECT City, COUNT(*) AS Active_Customers\n",
    "FROM Customers\n",
    "GROUP BY City\n",
    "ORDER BY Active_Customers DESC\n",
    "LIMIT 10;"
   ]
  },
  {
   "cell_type": "code",
   "execution_count": null,
   "id": "c3e8fac3-ac5d-4a1d-a8af-6a4d9e25d59c",
   "metadata": {},
   "outputs": [],
   "source": []
  }
 ],
 "metadata": {
  "kernelspec": {
   "display_name": "Python 3 (ipykernel)",
   "language": "python",
   "name": "python3"
  },
  "language_info": {
   "codemirror_mode": {
    "name": "ipython",
    "version": 3
   },
   "file_extension": ".py",
   "mimetype": "text/x-python",
   "name": "python",
   "nbconvert_exporter": "python",
   "pygments_lexer": "ipython3",
   "version": "3.12.7"
  }
 },
 "nbformat": 4,
 "nbformat_minor": 5
}
