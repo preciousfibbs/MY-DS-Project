{
 "cells": [
  {
   "cell_type": "markdown",
   "metadata": {},
   "source": [
    "<div align=\"right\" style=\" font-size: 80%; text-align: center; margin: 0 auto\">\n",
    "<img\n",
    " src=\"https://raw.githubusercontent.com/Explore-AI/Pictures/master/alx-courses/aice/assets/Content_page_banner_blue_dots.png\"\n",
    " alt=\"ALX Content Header\"\n",
    " class=\"full-width-image\"\n",
    "/>\n",
    "</div>"
   ]
  },
  {
   "attachments": {},
   "cell_type": "markdown",
   "metadata": {},
   "source": [
    "# Optimising SQL queries\n",
    "\n",
    "In this notebook, we dive into the different ways we can optimise our SQL queries to make them more efficient.\n",
    "\n",
    "## Learning objectives\n",
    "\n",
    "By the end of this train, you should be able to write more efficient SQL queries by:\n",
    "- Using column names instead of `*`.\n",
    "- Creating JOINS with `INNER` instead of `WHERE`.\n",
    "- Avoiding using the wildcard `%` at the beginning of a predicate.\n",
    "- Avoiding using functions when searching for patterns.\n",
    "- Avoiding using calculated fields in the `JOIN` and `WHERE` clauses.\n",
    "    "
   ]
  },
  {
   "cell_type": "markdown",
   "metadata": {},
   "source": [
    "## Connecting to our MySQL database\n",
    "\n",
    "In this train, we'll be using the US Flights database with actual US flights data to illustrate the optimisation techniques with large amounts of data. To follow along, ensure that you have downloaded the database file, `flights.db`. "
   ]
  },
  {
   "cell_type": "code",
   "execution_count": 1,
   "metadata": {},
   "outputs": [
    {
     "name": "stdout",
     "output_type": "stream",
     "text": [
      "Requirement already satisfied: pymysql in c:\\users\\dell\\anaconda3\\new folder\\lib\\site-packages (1.1.1)\n",
      "Requirement already satisfied: ipython-sql==0.4.1 in c:\\users\\dell\\anaconda3\\new folder\\lib\\site-packages (0.4.1)\n",
      "Requirement already satisfied: prettytable==0.7.2 in c:\\users\\dell\\anaconda3\\new folder\\lib\\site-packages (0.7.2)\n",
      "Requirement already satisfied: ipython>=1.0 in c:\\users\\dell\\anaconda3\\new folder\\lib\\site-packages (from ipython-sql==0.4.1) (8.27.0)\n",
      "Requirement already satisfied: sqlalchemy>=0.6.7 in c:\\users\\dell\\anaconda3\\new folder\\lib\\site-packages (from ipython-sql==0.4.1) (1.4.49)\n",
      "Requirement already satisfied: sqlparse in c:\\users\\dell\\anaconda3\\new folder\\lib\\site-packages (from ipython-sql==0.4.1) (0.5.3)\n",
      "Requirement already satisfied: six in c:\\users\\dell\\anaconda3\\new folder\\lib\\site-packages (from ipython-sql==0.4.1) (1.16.0)\n",
      "Requirement already satisfied: ipython-genutils>=0.1.0 in c:\\users\\dell\\anaconda3\\new folder\\lib\\site-packages (from ipython-sql==0.4.1) (0.2.0)\n",
      "Requirement already satisfied: decorator in c:\\users\\dell\\anaconda3\\new folder\\lib\\site-packages (from ipython>=1.0->ipython-sql==0.4.1) (5.1.1)\n",
      "Requirement already satisfied: jedi>=0.16 in c:\\users\\dell\\anaconda3\\new folder\\lib\\site-packages (from ipython>=1.0->ipython-sql==0.4.1) (0.19.1)\n",
      "Requirement already satisfied: matplotlib-inline in c:\\users\\dell\\anaconda3\\new folder\\lib\\site-packages (from ipython>=1.0->ipython-sql==0.4.1) (0.1.6)\n",
      "Requirement already satisfied: prompt-toolkit<3.1.0,>=3.0.41 in c:\\users\\dell\\anaconda3\\new folder\\lib\\site-packages (from ipython>=1.0->ipython-sql==0.4.1) (3.0.43)\n",
      "Requirement already satisfied: pygments>=2.4.0 in c:\\users\\dell\\anaconda3\\new folder\\lib\\site-packages (from ipython>=1.0->ipython-sql==0.4.1) (2.15.1)\n",
      "Requirement already satisfied: stack-data in c:\\users\\dell\\anaconda3\\new folder\\lib\\site-packages (from ipython>=1.0->ipython-sql==0.4.1) (0.2.0)\n",
      "Requirement already satisfied: traitlets>=5.13.0 in c:\\users\\dell\\anaconda3\\new folder\\lib\\site-packages (from ipython>=1.0->ipython-sql==0.4.1) (5.14.3)\n",
      "Requirement already satisfied: colorama in c:\\users\\dell\\anaconda3\\new folder\\lib\\site-packages (from ipython>=1.0->ipython-sql==0.4.1) (0.4.6)\n",
      "Requirement already satisfied: greenlet!=0.4.17 in c:\\users\\dell\\anaconda3\\new folder\\lib\\site-packages (from sqlalchemy>=0.6.7->ipython-sql==0.4.1) (3.0.1)\n",
      "Requirement already satisfied: parso<0.9.0,>=0.8.3 in c:\\users\\dell\\anaconda3\\new folder\\lib\\site-packages (from jedi>=0.16->ipython>=1.0->ipython-sql==0.4.1) (0.8.3)\n",
      "Requirement already satisfied: wcwidth in c:\\users\\dell\\anaconda3\\new folder\\lib\\site-packages (from prompt-toolkit<3.1.0,>=3.0.41->ipython>=1.0->ipython-sql==0.4.1) (0.2.5)\n",
      "Requirement already satisfied: executing in c:\\users\\dell\\anaconda3\\new folder\\lib\\site-packages (from stack-data->ipython>=1.0->ipython-sql==0.4.1) (0.8.3)\n",
      "Requirement already satisfied: asttokens in c:\\users\\dell\\anaconda3\\new folder\\lib\\site-packages (from stack-data->ipython>=1.0->ipython-sql==0.4.1) (2.0.5)\n",
      "Requirement already satisfied: pure-eval in c:\\users\\dell\\anaconda3\\new folder\\lib\\site-packages (from stack-data->ipython>=1.0->ipython-sql==0.4.1) (0.2.2)\n",
      "Requirement already satisfied: SQLAlchemy==1.4.49 in c:\\users\\dell\\anaconda3\\new folder\\lib\\site-packages (1.4.49)\n",
      "Requirement already satisfied: greenlet!=0.4.17 in c:\\users\\dell\\anaconda3\\new folder\\lib\\site-packages (from SQLAlchemy==1.4.49) (3.0.1)\n"
     ]
    }
   ],
   "source": [
    "!pip install pymysql\n",
    "!pip install ipython-sql==0.4.1 prettytable==0.7.2\n",
    "!pip install SQLAlchemy==1.4.49\n"
   ]
  },
  {
   "cell_type": "markdown",
   "metadata": {},
   "source": [
    "First, let's load our sample database:"
   ]
  },
  {
   "cell_type": "code",
   "execution_count": 2,
   "metadata": {},
   "outputs": [],
   "source": [
    "# Load and activate the SQL extension to allow us to execute SQL in a Jupyter notebook.\n",
    "%load_ext sql\n"
   ]
  },
  {
   "cell_type": "code",
   "execution_count": 4,
   "metadata": {},
   "outputs": [],
   "source": [
    "# Load the Flights database stored in your local machine. \n",
    "# Make sure the file is saved in the same folder as this notebook.\n",
    "%sql sqlite:///flightss.db "
   ]
  },
  {
   "cell_type": "code",
   "execution_count": 5,
   "metadata": {},
   "outputs": [
    {
     "name": "stdout",
     "output_type": "stream",
     "text": [
      " * sqlite:///flightss.db\n",
      "Done.\n"
     ]
    },
    {
     "data": {
      "text/html": [
       "<table>\n",
       "    <tr>\n",
       "        <th>name</th>\n",
       "    </tr>\n",
       "    <tr>\n",
       "        <td>airports</td>\n",
       "    </tr>\n",
       "    <tr>\n",
       "        <td>carriers</td>\n",
       "    </tr>\n",
       "    <tr>\n",
       "        <td>flights</td>\n",
       "    </tr>\n",
       "    <tr>\n",
       "        <td>planes</td>\n",
       "    </tr>\n",
       "    <tr>\n",
       "        <td>sysdiagrams</td>\n",
       "    </tr>\n",
       "</table>"
      ],
      "text/plain": [
       "[('airports',), ('carriers',), ('flights',), ('planes',), ('sysdiagrams',)]"
      ]
     },
     "execution_count": 5,
     "metadata": {},
     "output_type": "execute_result"
    }
   ],
   "source": [
    "%%sql\n",
    "SELECT name FROM sqlite_master WHERE type='table';"
   ]
  },
  {
   "cell_type": "markdown",
   "metadata": {},
   "source": [
    "Here is a view of all of our tables in the database:"
   ]
  },
  {
   "cell_type": "markdown",
   "metadata": {},
   "source": [
    "<div align=\"center\" style=\" font-size: 80%; text-align: center; margin: 0 auto\">\n",
    "<img src=\"https://raw.githubusercontent.com/Explore-AI/Pictures/master/flights_db_ER.png\"  style=\"width:500px\";/>\n",
    "<br>\n",
    "<br>\n",
    "    <em>Figure 1: Flights ERD</em>\n",
    "</div>"
   ]
  },
  {
   "attachments": {},
   "cell_type": "markdown",
   "metadata": {},
   "source": [
    "The Flights database consists of the following tables:\n",
    "\n",
    "- **flights**:     all domestic flights in the USA in 2008\n",
    "- **carriers**:     lookup table for all the carriers\n",
    "- **airports**:     lookup table for all the airports\n",
    "- **planes**:     lookup table for the planes"
   ]
  },
  {
   "attachments": {},
   "cell_type": "markdown",
   "metadata": {},
   "source": [
    "## Why do we need to optimise our queries?\n",
    "\n",
    "SQL queries might **take a long time to run** depending on the size of the database and the nature of the query. In addition, writing large SQL queries has the **potential to jam a server** (in a server-based configuration). For example, if a server spends too much time on a single query, other queries need to \"wait in line\" for the server to complete processing the one query. As a result, it is critical that we write more efficient queries, for example, queries that only read the data that is required."
   ]
  },
  {
   "attachments": {},
   "cell_type": "markdown",
   "metadata": {},
   "source": [
    "In this notebook, we will use iPython's built-in `%%time` magic command which will measure the execution time of code within a given Jupyter cell.\n",
    "\n",
    "**Note:** The SQL queries and databases we used in this notebook are not very complex. For this reason, we might not see large differences in speed between inefficient and efficient SQL queries. Sometimes we might even witness “efficient” queries being slower than “inefficient” queries. This is because other factors outside of the database such as computer performance or network connection can impact the amount of time it takes to complete a query.\n",
    "\n",
    "However, writing efficient queries even when databases are simple will ensure that your queries scale as your database grows in size and complexity. Well-written SQL queries are good coding practice and will always retrieve data quickly. \n",
    "\n"
   ]
  },
  {
   "attachments": {},
   "cell_type": "markdown",
   "metadata": {},
   "source": [
    "## Common Table Expressions (CTEs)\n",
    "\n",
    "CTEs simplify difficult queries by breaking them down into smaller, more understandable components and temporarily storing the results for later reference by other queries.  While CTEs make the code more readable and reusable, there are many other ways to optimise our queries to make them more efficient.\n"
   ]
  },
  {
   "attachments": {},
   "cell_type": "markdown",
   "metadata": {},
   "source": [
    "Here are a few other ways we can optimise our queries:"
   ]
  },
  {
   "attachments": {},
   "cell_type": "markdown",
   "metadata": {},
   "source": [
    "## Use column names instead of `*`\n",
    "\n",
    "Instead of using  `*` in our select statements, which selects all the columns in the table, we should rather use the specific column names we are interested in.\n",
    "For example, say we are only interested in the tail number and delay before departure for the first 50 flights. \n",
    " \n",
    "### Inefficient query"
   ]
  },
  {
   "cell_type": "code",
   "execution_count": 6,
   "metadata": {},
   "outputs": [
    {
     "name": "stdout",
     "output_type": "stream",
     "text": [
      " * sqlite:///flightss.db\n",
      "Done.\n"
     ]
    },
    {
     "data": {
      "text/html": [
       "<table>\n",
       "    <tr>\n",
       "        <th>name</th>\n",
       "    </tr>\n",
       "    <tr>\n",
       "        <td>airports</td>\n",
       "    </tr>\n",
       "    <tr>\n",
       "        <td>carriers</td>\n",
       "    </tr>\n",
       "    <tr>\n",
       "        <td>flights</td>\n",
       "    </tr>\n",
       "    <tr>\n",
       "        <td>planes</td>\n",
       "    </tr>\n",
       "    <tr>\n",
       "        <td>sysdiagrams</td>\n",
       "    </tr>\n",
       "</table>"
      ],
      "text/plain": [
       "[('airports',), ('carriers',), ('flights',), ('planes',), ('sysdiagrams',)]"
      ]
     },
     "execution_count": 6,
     "metadata": {},
     "output_type": "execute_result"
    }
   ],
   "source": [
    "%%sql\n",
    "SELECT name FROM sqlite_master WHERE type='table';"
   ]
  },
  {
   "cell_type": "code",
   "execution_count": null,
   "metadata": {},
   "outputs": [
    {
     "name": "stdout",
     "output_type": "stream",
     "text": [
      " * sqlite:///flightss.db\n",
      "Done.\n",
      "CPU times: total: 10.8 s\n",
      "Wall time: 11.6 s\n"
     ]
    }
   ],
   "source": [
    "%%time\n",
    "%%sql\n",
    "\n",
    "SELECT * \n",
    "FROM flights"
   ]
  },
  {
   "cell_type": "markdown",
   "metadata": {},
   "source": [
    "### Efficient query"
   ]
  },
  {
   "cell_type": "code",
   "execution_count": null,
   "metadata": {},
   "outputs": [],
   "source": [
    "%%time\n",
    "%%sql\n",
    "\n",
    "SELECT TailNum, DepDelay \n",
    "FROM flights \n",
    "LIMIT 50"
   ]
  },
  {
   "attachments": {},
   "cell_type": "markdown",
   "metadata": {},
   "source": [
    "Many SQL developers use `SELECT * FROM table` to get a look at column data, which becomes taxing if there are many records (normally a few million or more).\n",
    "\n",
    "Returning only the required columns decreases the overall amount of data read and, as a result, the runtime. For the same reasons, it is also vital to use `LIMIT` to limit the number of rows in the result to only the required rows."
   ]
  },
  {
   "cell_type": "markdown",
   "metadata": {},
   "source": [
    "## Create `JOINS` with `INNER`\n",
    "When extracting data from two databases and joining them on specific columns, we could use the `WHERE` clause to join the tables on those columns in most cases. Assume we want to add the carrier's description to the Flights database. That will require querying the carriers table and the flights table for codes that match the unique carrier name in the flights table.\n",
    " \n",
    "### Inefficient query"
   ]
  },
  {
   "cell_type": "code",
   "execution_count": null,
   "metadata": {},
   "outputs": [],
   "source": [
    "%%time\n",
    "%%sql\n",
    "\n",
    "SELECT FlightNum, TailNum, Description\n",
    "FROM flights, carriers\n",
    "WHERE carriers.Code = flights.UniqueCarrier\n",
    "LIMIT 2500"
   ]
  },
  {
   "cell_type": "markdown",
   "metadata": {},
   "source": [
    "### Efficient query"
   ]
  },
  {
   "cell_type": "code",
   "execution_count": null,
   "metadata": {},
   "outputs": [],
   "source": [
    "%%time\n",
    "%%sql\n",
    "\n",
    "SELECT FlightNum, TailNum, Description\n",
    "FROM flights\n",
    "INNER JOIN carriers\n",
    "ON carriers.Code = flights.UniqueCarrier\n",
    "LIMIT 2500;"
   ]
  },
  {
   "attachments": {},
   "cell_type": "markdown",
   "metadata": {},
   "source": [
    "Joining tables using the `WHERE` clause is similar to doing a `CROSS` join. This type of join will first generate all possible combinations of the values in the joining columns and then filter these results according to the specified condition. This means we iterate through the combination of records from both tables. However, when an inner join operation is performed, only records in the left table are iterated through to find matches in the right table. "
   ]
  },
  {
   "cell_type": "markdown",
   "metadata": {},
   "source": [
    "## Avoid using the wildcard (`%`) at the beginning of a `LIKE` operator\n",
    "\n",
    "When every row in a table has an index, it is possible to search the table using the index, making it easier and faster to find the values we are looking for. Whether we search using the `%` wildcard at the beginning or the end of the `LIKE` operator also affects how efficient our query is. \n",
    "\n",
    "Suppose we want the tail number and distance of all flights whose tail number starts with `N7` \n",
    " \n",
    "### Inefficient query"
   ]
  },
  {
   "cell_type": "code",
   "execution_count": null,
   "metadata": {},
   "outputs": [],
   "source": [
    "%%time\n",
    "%%sql\n",
    "\n",
    "SELECT TailNum, Distance\n",
    "FROM flights\n",
    "WHERE TailNum LIKE '%N7%'\n",
    "LIMIT 2500;"
   ]
  },
  {
   "cell_type": "markdown",
   "metadata": {},
   "source": [
    "### Efficient query"
   ]
  },
  {
   "cell_type": "code",
   "execution_count": null,
   "metadata": {},
   "outputs": [],
   "source": [
    "%%time\n",
    "%%sql\n",
    "\n",
    "SELECT TailNum, Distance\n",
    "FROM flights\n",
    "WHERE TailNum LIKE 'N7%'\n",
    "LIMIT 2500;"
   ]
  },
  {
   "cell_type": "markdown",
   "metadata": {},
   "source": [
    "\n",
    "Since it does not use the index to aid in the search, using a wildcard at the beginning of a pattern necessitates a full table scan. We should rather utilise a trailing wildcard (`%` at the end of the operator) to search for text at the beginning of a field. This will take advantage of any existing indexing."
   ]
  },
  {
   "cell_type": "markdown",
   "metadata": {},
   "source": [
    "## Avoid using functions when searching for patterns\n",
    "Let's say we also wanted to return the origin and departure delay of all flights from a specific origin. \n",
    " \n",
    "### Inefficient query"
   ]
  },
  {
   "cell_type": "code",
   "execution_count": null,
   "metadata": {},
   "outputs": [],
   "source": [
    "%%time\n",
    "%%sql\n",
    "\n",
    "SELECT Origin, DepDelay \n",
    "FROM flights\n",
    "WHERE LOWER(Origin) = 'las'\n",
    "LIMIT 7000;"
   ]
  },
  {
   "cell_type": "markdown",
   "metadata": {},
   "source": [
    "### Efficient query"
   ]
  },
  {
   "cell_type": "code",
   "execution_count": null,
   "metadata": {},
   "outputs": [],
   "source": [
    "%%time\n",
    "%%sql\n",
    "\n",
    "WITH CTE AS\n",
    "(SELECT LOWER(Origin) Origin_lower, DepDelay FROM flights)\n",
    "\n",
    "SELECT * FROM CTE WHERE Origin_lower = 'las'\n",
    "LIMIT 7000;"
   ]
  },
  {
   "attachments": {},
   "cell_type": "markdown",
   "metadata": {},
   "source": [
    "If we use functions when searching for patterns, the index-based optimisations can’t be used. \n",
    "One alternative method is to use CTEs instead."
   ]
  },
  {
   "cell_type": "markdown",
   "metadata": {},
   "source": [
    "## Avoid using calculated fields in the JOIN and WHERE clauses\n",
    "\n",
    "Suppose we want to return the flights where the departure delay was more than 20% of the flight time. We would need to calculate the value of 20% of the `AirTime` column and then compare that to the `DepDelay` column for each row.\n",
    " \n",
    "### Inefficient query"
   ]
  },
  {
   "cell_type": "code",
   "execution_count": null,
   "metadata": {},
   "outputs": [],
   "source": [
    "%%time\n",
    "%%sql\n",
    "\n",
    "SELECT TailNum, DepDelay\n",
    "FROM flights\n",
    "WHERE AirTime/5 < DepDelay\n",
    "LIMIT 5000;"
   ]
  },
  {
   "cell_type": "markdown",
   "metadata": {},
   "source": [
    "### Efficient query"
   ]
  },
  {
   "cell_type": "code",
   "execution_count": null,
   "metadata": {},
   "outputs": [],
   "source": [
    "%%time\n",
    "%%sql\n",
    "\n",
    "WITH CTE AS \n",
    "(SELECT AirTime/5 as fifth_time, DepDelay, TailNum FROM flights)\n",
    "\n",
    "SELECT TailNum, DepDelay \n",
    "FROM CTE\n",
    "WHERE CTE.fifth_time < CTE.DepDelay\n",
    "LIMIT 5000;"
   ]
  },
  {
   "attachments": {},
   "cell_type": "markdown",
   "metadata": {},
   "source": [
    "Calculated fields in `JOIN` and `WHERE` clauses also prevent indices from being used. CTEs can be used instead as well."
   ]
  },
  {
   "cell_type": "markdown",
   "metadata": {},
   "source": [
    "<div align=\"center\" style=\" font-size: 80%; text-align: center; margin: 0 auto\">\n",
    "<img src=\"https://raw.githubusercontent.com/Explore-AI/Pictures/refs/heads/master/ALX_banners/ALX_Navy.png\"  style=\"width:100px\"  ;/>\n",
    "</div>"
   ]
  }
 ],
 "metadata": {
  "colab": {
   "collapsed_sections": [],
   "name": "SQL_Experimentation.ipynb",
   "provenance": []
  },
  "kernelspec": {
   "display_name": "Python 3 (ipykernel)",
   "language": "python",
   "name": "python3"
  },
  "language_info": {
   "codemirror_mode": {
    "name": "ipython",
    "version": 3
   },
   "file_extension": ".py",
   "mimetype": "text/x-python",
   "name": "python",
   "nbconvert_exporter": "python",
   "pygments_lexer": "ipython3",
   "version": "3.12.7"
  },
  "vscode": {
   "interpreter": {
    "hash": "9bbd47474de8b66d2708c218224ec9fae395634c78ff17e5e7a926e922321c24"
   }
  }
 },
 "nbformat": 4,
 "nbformat_minor": 4
}
