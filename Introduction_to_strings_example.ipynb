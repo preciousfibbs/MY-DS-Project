{
  "cells": [
    {
      "cell_type": "markdown",
      "metadata": {
        "id": "view-in-github",
        "colab_type": "text"
      },
      "source": [
        "<a href=\"https://colab.research.google.com/github/preciousfibbs/MY-DS-Project/blob/main/Introduction_to_strings_example.ipynb\" target=\"_parent\"><img src=\"https://colab.research.google.com/assets/colab-badge.svg\" alt=\"Open In Colab\"/></a>"
      ]
    },
    {
      "cell_type": "markdown",
      "metadata": {
        "id": "OWDkjFQnCXPU"
      },
      "source": [
        "<div align=\"center\" style=\" font-size: 80%; text-align: center; margin: 0 auto\">\n",
        "<img src=\"https://raw.githubusercontent.com/Explore-AI/Pictures/master/Python-Notebook-Banners/Examples.png\"  style=\"display: block; margin-left: auto; margin-right: auto;\";/>\n",
        "</div>"
      ],
      "id": "OWDkjFQnCXPU"
    },
    {
      "cell_type": "markdown",
      "id": "f662d169",
      "metadata": {
        "id": "f662d169"
      },
      "source": [
        "# Examples: Introduction to strings\n"
      ]
    },
    {
      "cell_type": "markdown",
      "id": "26af890c",
      "metadata": {
        "id": "26af890c"
      },
      "source": [
        "In this train, we'll explore Python strings and their creation as well as special character utilisation. We will also delve into the sequential nature of strings and their immutability."
      ]
    },
    {
      "cell_type": "markdown",
      "id": "2d230d14",
      "metadata": {
        "tags": [],
        "id": "2d230d14"
      },
      "source": [
        "## Learning objectives\n",
        "\n",
        "In this example notebook we will be able to:\n",
        "- Create strings in Python using both single and double quotes, encompassing letters, numbers, symbols, and spaces.\n",
        "- Understand positive and negative indexing of strings, enabling the retrieval of individual characters using different counting directions.\n",
        "- Describe the immutability of strings in Python, realising that modifications to strings create new instances rather than altering existing ones."
      ]
    },
    {
      "cell_type": "markdown",
      "metadata": {
        "id": "eE6fh7cdCXPs"
      },
      "source": [
        "## Outline\n",
        "  1. [Introduction](#introduction)\n",
        "  2. [Characteristics of strings](#characteristics-of-strings)\n",
        "     * [Sequence of characters](#1-sequence-of-characters)\n",
        "     * [Immutable](#2-immutable)\n",
        "  3. [The `print()` function](#the-print-function)\n",
        "  4. [Special characters](#special-characters)\n",
        "  5. [Examples](#examples)\n",
        "     * [Example 1: String indexing](#example-1-string-indexing)\n",
        "     * [Example 2: String concatenation](#example-2-string-concatenation)\n",
        "     * [Example 3: String manipulation](#example-3-string-manipulation)\n",
        "     * [Example 4: String methods](#example-4-string-methods)\n",
        "  6. [Summary](#summary)"
      ],
      "id": "eE6fh7cdCXPs"
    },
    {
      "cell_type": "markdown",
      "metadata": {
        "id": "HgloG9tHCXP3"
      },
      "source": [
        "## Introduction\n",
        "\n",
        "In Python, a string is a data type used to represent text.\n",
        "\n",
        "Strings in Python can be created using either single quotes (`'`) or double quotes (`\"`), and they can include letters, numbers, symbols, and even spaces."
      ],
      "id": "HgloG9tHCXP3"
    },
    {
      "cell_type": "code",
      "execution_count": null,
      "metadata": {
        "id": "Q9omrx2sCXRG"
      },
      "outputs": [],
      "source": [
        "# Example: Creating a string variable\n",
        "\n",
        "single_quotes = 'Creating a string using single quotes.'\n",
        "double_quotes = \"Creating a string using double quotes.\"\n",
        "\n",
        "# Print the variables\n",
        "print(single_quotes)\n",
        "print(double_quotes)"
      ],
      "id": "Q9omrx2sCXRG"
    },
    {
      "cell_type": "markdown",
      "metadata": {
        "id": "TmWbJRtpCXRK"
      },
      "source": [
        "## Characteristics of strings\n",
        "\n",
        "The two characteristics of strings in Python include:\n",
        "\n",
        "### 1. Sequence of characters\n",
        "\n",
        "A string in Python is fundamentally a sequence of characters. This means that a string is an ordered collection where each character has a specific position or index within the sequence.\n",
        "\n",
        "<div align=\"center\" style=\" font-size: 80%; text-align: center; margin: 0 auto\">\n",
        "    <img src=\"https://raw.githubusercontent.com/Explore-AI/Pictures/master/Python_strings.jpg\"  style=\"width:50%\";/>\n",
        "    <br>\n",
        "    <br>\n",
        "    <em>Figure 1: String – a sequence of characters</em>\n",
        "</div>"
      ],
      "id": "TmWbJRtpCXRK"
    },
    {
      "cell_type": "markdown",
      "metadata": {
        "id": "XAJ3ghWHCXRN"
      },
      "source": [
        "In Python, string indexing allows us to access individual characters within a string.\n",
        "\n",
        "Positive and negative indexing are two ways to reference characters in a string, and they provide different ways to count positions.\n",
        "\n",
        "<div align=\"center\" style=\" font-size: 80%; text-align: center; margin: 0 auto\">\n",
        "<img src=\"https://raw.githubusercontent.com/Explore-AI/Pictures/master/Python_string_indexing.jpg\"  style=\"width:50%\";/>\n",
        "<br>\n",
        "<br>\n",
        "    <em>Figure 2: Positive and negative indexing</em>\n",
        "</div>"
      ],
      "id": "XAJ3ghWHCXRN"
    },
    {
      "cell_type": "markdown",
      "metadata": {
        "id": "RzbQ1TcYCXRP"
      },
      "source": [
        "**Positive indexing** starts from the beginning of the string, therefore, string characters are accessed from left to right.\n",
        "The first character has an index of 0, the second has an index of 1, and so on."
      ],
      "id": "RzbQ1TcYCXRP"
    },
    {
      "cell_type": "code",
      "execution_count": 1,
      "metadata": {
        "colab": {
          "base_uri": "https://localhost:8080/"
        },
        "id": "OkaT7jepCXRQ",
        "outputId": "3e0b329e-c2bb-47d5-8945-ab74f056d5a9"
      },
      "outputs": [
        {
          "output_type": "stream",
          "name": "stdout",
          "text": [
            "Positive indexing:\n",
            "First character: H\n",
            "Second character: e\n",
            "Last character: !\n"
          ]
        }
      ],
      "source": [
        "# Example: positive indexing\n",
        "my_string = \"Hello, World!\"\n",
        "\n",
        "# Accessing characters using positive indexing\n",
        "first_char = my_string[0]\n",
        "second_char = my_string[1]\n",
        "last_char = my_string[12]\n",
        "\n",
        "print(\"Positive indexing:\")\n",
        "print(\"First character:\", first_char)\n",
        "print(\"Second character:\", second_char)\n",
        "print(\"Last character:\", last_char)"
      ],
      "id": "OkaT7jepCXRQ"
    },
    {
      "cell_type": "markdown",
      "metadata": {
        "id": "-JRyIjUACXRT"
      },
      "source": [
        "**Negative indexing**, on the other hand, starts from the end of the string, which means that characters are accessed from right to left. The last character has an index of -1, the second-to-last has an index of -2, and so on."
      ],
      "id": "-JRyIjUACXRT"
    },
    {
      "cell_type": "code",
      "execution_count": 2,
      "metadata": {
        "colab": {
          "base_uri": "https://localhost:8080/"
        },
        "id": "DZAupoQiCXRT",
        "outputId": "5ef01f11-8539-4e88-c027-2f4d1c531fa4"
      },
      "outputs": [
        {
          "output_type": "stream",
          "name": "stdout",
          "text": [
            "\n",
            "Negative indexing:\n",
            "Last character: !\n",
            "Second last character: d\n",
            "First character: H\n"
          ]
        }
      ],
      "source": [
        "# Example: negative indexing\n",
        "# Accessing characters using negative indexing\n",
        "last_char_negative = my_string[-1]\n",
        "second_last_char = my_string[-2]\n",
        "first_char_negative = my_string[-13]\n",
        "\n",
        "print(\"\\nNegative indexing:\")\n",
        "print(\"Last character:\", last_char_negative)\n",
        "print(\"Second last character:\", second_last_char)\n",
        "print(\"First character:\", first_char_negative)"
      ],
      "id": "DZAupoQiCXRT"
    },
    {
      "cell_type": "markdown",
      "metadata": {
        "id": "HfOMPnkICXRU"
      },
      "source": [
        "Using both positive and negative indexing provides flexibility when working with strings, allowing us to choose the most convenient direction based on our specific task."
      ],
      "id": "HfOMPnkICXRU"
    },
    {
      "cell_type": "markdown",
      "metadata": {
        "id": "ZRIR2ux3CXRU"
      },
      "source": [
        "### 2. Immutable\n",
        "\n",
        "Strings in Python are immutable, meaning that once a string is created, it cannot be changed. However, we can create new strings based on the original one.\n",
        "\n",
        "For example, attempting to modify a character at a specific index in the string will raise a `TypeError` because strings do not support item assignment, which means we cannot change or modify individual characters of a string once it has been created."
      ],
      "id": "ZRIR2ux3CXRU"
    },
    {
      "cell_type": "code",
      "execution_count": 3,
      "metadata": {
        "colab": {
          "base_uri": "https://localhost:8080/",
          "height": 176
        },
        "id": "-I-0ps4FCXRW",
        "outputId": "9d518340-27c1-4204-da9a-06f776eb981d"
      },
      "outputs": [
        {
          "output_type": "error",
          "ename": "TypeError",
          "evalue": "'str' object does not support item assignment",
          "traceback": [
            "\u001b[0;31m---------------------------------------------------------------------------\u001b[0m",
            "\u001b[0;31mTypeError\u001b[0m                                 Traceback (most recent call last)",
            "\u001b[0;32m/tmp/ipython-input-1085310367.py\u001b[0m in \u001b[0;36m<cell line: 0>\u001b[0;34m()\u001b[0m\n\u001b[1;32m      4\u001b[0m \u001b[0;34m\u001b[0m\u001b[0m\n\u001b[1;32m      5\u001b[0m \u001b[0;31m# The line below gives an error\u001b[0m\u001b[0;34m\u001b[0m\u001b[0;34m\u001b[0m\u001b[0m\n\u001b[0;32m----> 6\u001b[0;31m \u001b[0moriginal_string\u001b[0m\u001b[0;34m[\u001b[0m\u001b[0;36m0\u001b[0m\u001b[0;34m]\u001b[0m \u001b[0;34m=\u001b[0m \u001b[0;34m'h'\u001b[0m\u001b[0;34m\u001b[0m\u001b[0;34m\u001b[0m\u001b[0m\n\u001b[0m",
            "\u001b[0;31mTypeError\u001b[0m: 'str' object does not support item assignment"
          ]
        }
      ],
      "source": [
        "# Example: immutability\n",
        "\n",
        "original_string = \"Hello, World!\"\n",
        "\n",
        "# The line below gives an error\n",
        "original_string[0] = 'h'"
      ],
      "id": "-I-0ps4FCXRW"
    },
    {
      "cell_type": "markdown",
      "metadata": {
        "id": "KZHDiD05CXRW"
      },
      "source": [
        "Since we cannot modify a string in place, any operation that seems to modify a string actually creates a new string with the modified content. For example, concatenation or slicing operations result in a new string."
      ],
      "id": "KZHDiD05CXRW"
    },
    {
      "cell_type": "code",
      "execution_count": 4,
      "metadata": {
        "colab": {
          "base_uri": "https://localhost:8080/"
        },
        "id": "JR7i36oPCXRX",
        "outputId": "93444660-599b-49e0-9617-c1dbdb994805"
      },
      "outputs": [
        {
          "output_type": "stream",
          "name": "stdout",
          "text": [
            "Hello, World!\n"
          ]
        }
      ],
      "source": [
        "# Example: Creating a new string by concatenation\n",
        "\n",
        "original_string = \"Hello\"\n",
        "new_string = original_string + \", World!\"\n",
        "\n",
        "# Print the new variable\n",
        "print(new_string)"
      ],
      "id": "JR7i36oPCXRX"
    },
    {
      "cell_type": "markdown",
      "metadata": {
        "id": "-_znnSZACXRY"
      },
      "source": [
        "But hold on, what if we modify the entire string instead of trying to change a specific character within the string? Wouldn't that mute the concept of immutability in strings?"
      ],
      "id": "-_znnSZACXRY"
    },
    {
      "cell_type": "code",
      "execution_count": 5,
      "metadata": {
        "colab": {
          "base_uri": "https://localhost:8080/"
        },
        "id": "c1h2eTeXCXRY",
        "outputId": "61a5aefa-ceec-40fd-dff7-b3e82d07de42"
      },
      "outputs": [
        {
          "output_type": "stream",
          "name": "stdout",
          "text": [
            "hello. World?\n"
          ]
        }
      ],
      "source": [
        "# Example: Modifying the entire string\n",
        "\n",
        "original_string = \"Hello, World!\"\n",
        "original_string = \"hello. World?\"\n",
        "\n",
        "# The variable's value has changed.\n",
        "# What does this mean for immutability in strings?\n",
        "print(original_string)"
      ],
      "id": "c1h2eTeXCXRY"
    },
    {
      "cell_type": "markdown",
      "metadata": {
        "id": "kkSJEanaCXRZ"
      },
      "source": [
        "In the same way we cannot modify individual characters in a string due to its immutability, we also cannot modify the original string in its entirety. Instead, we are creating a new string and assigning it to the variable `original_string`.\n",
        "\n",
        "Here's the breakdown:\n",
        "\n",
        "* `original_string = \"Hello, World!\"`\n",
        "  \n",
        "  This line creates a string object with the value `\"Hello, World!\"` and assigns it to the variable `original_string`.\n",
        "\n",
        "* `original_string = \"hello. World?\"`\n",
        "  \n",
        "  This line then creates a new string object with the value `\"hello. World?\"` and assigns it to the same variable `original_string`.\n",
        "  \n",
        "  This does not modify the original string `\"Hello, World!\"` in place. Instead, it *rebinds* the variable `original_string` to a new string object.\n",
        "\n",
        "* `print(original_string)`\n",
        "  \n",
        "  Consequently, this line prints the current value of `original_string`, which is the most recent string assigned to it: `\"hello. World?\"`."
      ],
      "id": "kkSJEanaCXRZ"
    },
    {
      "cell_type": "markdown",
      "metadata": {
        "id": "THORCpGBCXRZ"
      },
      "source": [
        "## The `print()` function\n",
        "\n",
        "The `print()` function in Python is a versatile tool that allows us to display information to the console. It is crucial for debugging, displaying results, and communicating with users. In this section, we will delve into the basics of using the `print()` function, showcasing its utility in printing both variables and strings, and how it can be employed for printing multiline outputs to enhance readability.\n",
        "\n",
        "The `print()` function is straightforward to use. It takes one or more arguments and prints them to the console. Let's start with a simple example:"
      ],
      "id": "THORCpGBCXRZ"
    },
    {
      "cell_type": "code",
      "execution_count": null,
      "metadata": {
        "id": "Mupa2f3tCXRa"
      },
      "outputs": [],
      "source": [
        "# Example: basic use of print()\n",
        "\n",
        "print(\"Hello, Python!\")"
      ],
      "id": "Mupa2f3tCXRa"
    },
    {
      "cell_type": "markdown",
      "metadata": {
        "id": "D9rwjgb2CXRa"
      },
      "source": [
        "We'll often need to display the values stored in variables or combine them with strings for meaningful output."
      ],
      "id": "D9rwjgb2CXRa"
    },
    {
      "cell_type": "code",
      "execution_count": null,
      "metadata": {
        "id": "tAUazAemCXRb"
      },
      "outputs": [],
      "source": [
        "# Example: combining strings and variables\n",
        "\n",
        "name = \"Alice\"\n",
        "age = 25\n",
        "\n",
        "print(\"Name:\", name)\n",
        "print(\"Age:\", age)"
      ],
      "id": "tAUazAemCXRb"
    },
    {
      "cell_type": "markdown",
      "metadata": {
        "id": "YsNIl6G1CXRb"
      },
      "source": [
        "To enhance the readability of output, especially when dealing with complex information or structured data, multiline outputs are beneficial. Python allows for multiline strings using triple quotes (`'''` or `\"\"\"`):"
      ],
      "id": "YsNIl6G1CXRb"
    },
    {
      "cell_type": "code",
      "execution_count": null,
      "metadata": {
        "id": "z55VsnIzCXRb"
      },
      "outputs": [],
      "source": [
        "# Example: printing multiline output\n",
        "\n",
        "multiline_text = '''This is a multiline string.\n",
        "It spans multiple lines.\n",
        "Printed using the print() function.'''\n",
        "print(multiline_text)"
      ],
      "id": "z55VsnIzCXRb"
    },
    {
      "cell_type": "markdown",
      "metadata": {
        "id": "X7kdEZ6sCXRb"
      },
      "source": [
        "## Special characters\n",
        "\n",
        "Special characters play a crucial role in enhancing the flexibility and expressiveness of strings. They are characters that, when included in a string, carry a specific meaning beyond their literal representation. Some common special characters include:\n",
        "\n",
        "| Character | Name | Function |\n",
        "|---|---|---|\n",
        "| '\\n' | Newline | Inserts a new line in a string. Useful for structuring text output or displaying information on separate lines. |\n",
        "| '\\t' | Tab | Creates horizontal spacing within a string. Valuable for aligning text or data in a visually organised manner. |\n",
        "| '\\\\' | Backslash | Acts as an escape character. Used when including special characters in a string without triggering their usual meaning. For example, to include a literal backslash in a string, we would use '\\\\'. |\n",
        "| '\\'' | Single quote | Used within strings declared with single quotes. Prevents confusion with the opening and closing of the string when a single quote needs to be included. |\n",
        "| '\"' | Double quote | Used within strings declared with double quotes. Prevents ambiguity and allows the inclusion of double quotes without prematurely ending the string. |\n",
        "| '\\r' | Carriage return | Moves the cursor to the beginning of the line without advancing to the next line. Useful for overwriting or modifying existing text. |\n",
        "| '\\b' | Backspace | Removes the preceding character. Often used for editing or correcting input. |\n",
        "| '\\a' | Alert | Produces an audible or visible alert. Its effectiveness may vary across different platforms. |\n",
        "| '\\ooo' | Octal representation | Represents a character using its octal value. For example, '\\110' represents the character 'H'. |\n",
        "| '\\xhh' | Hexadecimal representation | Represents a character using its hexadecimal value. For example, '\\x48' represents the character 'H'. |\n",
        "<div align=\"center\">\n",
        "    <em style=\"align:center\">Table 1: Special characters</em>\n",
        "</div>\n",
        "\n",
        "Understanding these special characters and their functions is crucial for effective string manipulation in Python."
      ],
      "id": "X7kdEZ6sCXRb"
    },
    {
      "cell_type": "code",
      "execution_count": null,
      "metadata": {
        "id": "dIBUviNECXRc"
      },
      "outputs": [],
      "source": [
        "# Example: newline (\\n)\n",
        "\n",
        "print(\"Hello,\\nWorld!\")"
      ],
      "id": "dIBUviNECXRc"
    },
    {
      "cell_type": "code",
      "execution_count": null,
      "metadata": {
        "id": "Z3OdkfX5CXRd"
      },
      "outputs": [],
      "source": [
        "# Example: tab (\\t)\n",
        "\n",
        "print(\"Name:\\tJohn\\nAge:\\t25\")"
      ],
      "id": "Z3OdkfX5CXRd"
    },
    {
      "cell_type": "code",
      "execution_count": null,
      "metadata": {
        "id": "RH8AguzpCXRe"
      },
      "outputs": [],
      "source": [
        "# Example: backslash (\\\\)\n",
        "\n",
        "print(\"This is a backslash: \\\\\")"
      ],
      "id": "RH8AguzpCXRe"
    },
    {
      "cell_type": "code",
      "execution_count": null,
      "metadata": {
        "id": "9FR6p2CpCXRe"
      },
      "outputs": [],
      "source": [
        "# Example: single quote (\\')\n",
        "\n",
        "print('He said, \\'Hello!\\'')"
      ],
      "id": "9FR6p2CpCXRe"
    },
    {
      "cell_type": "code",
      "execution_count": null,
      "metadata": {
        "id": "lnoB55auCXRf"
      },
      "outputs": [],
      "source": [
        "# Example: double quote (\\\")\n",
        "\n",
        "print(\"She exclaimed, \\\"Wow!\\\"\")"
      ],
      "id": "lnoB55auCXRf"
    },
    {
      "cell_type": "code",
      "execution_count": null,
      "metadata": {
        "id": "kFSUAohvCXRf"
      },
      "outputs": [],
      "source": [
        "# Example: carriage return (\\r)\n",
        "\n",
        "print(\"Overwrite\\rThis text.\")"
      ],
      "id": "kFSUAohvCXRf"
    },
    {
      "cell_type": "code",
      "execution_count": null,
      "metadata": {
        "id": "HjQEyE-VCXRf"
      },
      "outputs": [],
      "source": [
        "# Example: backspace (\\b)\n",
        "\n",
        "print(\"Remove\\b This\")"
      ],
      "id": "HjQEyE-VCXRf"
    },
    {
      "cell_type": "code",
      "execution_count": null,
      "metadata": {
        "id": "-fyhFenWCXRg"
      },
      "outputs": [],
      "source": [
        "# Example: alert (\\a)\n",
        "\n",
        "print(\"This is an alert!\\a\")"
      ],
      "id": "-fyhFenWCXRg"
    },
    {
      "cell_type": "code",
      "execution_count": null,
      "metadata": {
        "id": "bt0T55FDCXRg"
      },
      "outputs": [],
      "source": [
        "# Example: octal representation (\\ooo)\n",
        "\n",
        "print(\"Octal representation: \\110\")"
      ],
      "id": "bt0T55FDCXRg"
    },
    {
      "cell_type": "code",
      "execution_count": null,
      "metadata": {
        "id": "I7wUp1t0CXRh"
      },
      "outputs": [],
      "source": [
        "# Example: hexadecimal representation (\\xhh)\n",
        "\n",
        "print(\"Hexadecimal representation: \\x48\")"
      ],
      "id": "I7wUp1t0CXRh"
    },
    {
      "cell_type": "markdown",
      "metadata": {
        "id": "q_Qh511RCXRi"
      },
      "source": [
        "## Examples\n",
        "\n",
        "Now that we have gone through the theory, let's get our hands dirty by trying out some example problems!\n",
        "\n"
      ],
      "id": "q_Qh511RCXRi"
    },
    {
      "cell_type": "markdown",
      "metadata": {
        "id": "E-RsDCaFCXRr"
      },
      "source": [
        "### Example 1: String indexing\n",
        "\n",
        "Given the string below, perform the following tasks:\n",
        "\n",
        "1. Print the third character of the string using positive indexing.\n",
        "2. Print the last character of the string using negative indexing.\n",
        "3. Print a substring that includes characters from index 6 to 10 (inclusive)."
      ],
      "id": "E-RsDCaFCXRr"
    },
    {
      "cell_type": "code",
      "execution_count": null,
      "metadata": {
        "id": "urYEeQ6LCXRr"
      },
      "outputs": [],
      "source": [
        "challenge_string = \"PythonIsAwesome!\"\n",
        "\n",
        "# Your solution here..."
      ],
      "id": "urYEeQ6LCXRr"
    },
    {
      "cell_type": "code",
      "execution_count": null,
      "metadata": {
        "id": "KCDdf7pTCXRs"
      },
      "outputs": [],
      "source": [
        "# Solution for Example 1\n",
        "challenge_string = \"PythonIsAwesome!\"\n",
        "\n",
        "# Task 1\n",
        "print(challenge_string[2])\n",
        "\n",
        "# Task 2\n",
        "print(challenge_string[-1])\n",
        "\n",
        "# Task 3\n",
        "print(challenge_string[6:11])"
      ],
      "id": "KCDdf7pTCXRs"
    },
    {
      "cell_type": "markdown",
      "metadata": {
        "id": "WSslKa3FCXRs"
      },
      "source": [
        "### Example 2: String concatenation\n",
        "\n",
        "Concatenate these strings and print the result."
      ],
      "id": "WSslKa3FCXRs"
    },
    {
      "cell_type": "code",
      "execution_count": null,
      "metadata": {
        "id": "HcdYvsGbCXRt"
      },
      "outputs": [],
      "source": [
        "string1 = \"Programming\"\n",
        "string2 = \" is fun!\"\n",
        "\n",
        "# Your solution here..."
      ],
      "id": "HcdYvsGbCXRt"
    },
    {
      "cell_type": "code",
      "execution_count": null,
      "metadata": {
        "id": "-0pkcNAZCXRt"
      },
      "outputs": [],
      "source": [
        "# Solution for Example 2\n",
        "string1 = \"Programming\"\n",
        "string2 = \" is fun!\"\n",
        "\n",
        "# Task\n",
        "result = string1 + string2\n",
        "print(result)"
      ],
      "id": "-0pkcNAZCXRt"
    },
    {
      "cell_type": "markdown",
      "metadata": {
        "id": "k1NYXEfrCXRu"
      },
      "source": [
        "### Example 3: Special characters\n",
        "\n",
        "We are given the following information about special characters in strings. Using this knowledge, create a multiline string that includes the following information:\n",
        "\n",
        "* Your name and age on the first line.\n",
        "* A sentence with a newline character to separate lines.\n",
        "* A sentence with a tab character to align text.\n",
        "* A sentence containing a backslash character.\n",
        "* A sentence containing both single and double quotes.\n",
        "* A sentence using the carriage return character to overwrite part of the text.\n",
        "* A sentence with a backspace character to remove the preceding character.\n",
        "  \n",
        "Print the multiline string."
      ],
      "id": "k1NYXEfrCXRu"
    },
    {
      "cell_type": "markdown",
      "metadata": {
        "id": "06IcwfLcCXRu"
      },
      "source": [
        "**Expected output:**\n",
        "\n",
        "`John, Age: 30`\n",
        "\n",
        "`This is a multiline string.`\n",
        "\n",
        "`Name:    John`\n",
        "\n",
        "`Age:     30`\n",
        "\n",
        "`This is a backslash: \\`\n",
        "\n",
        "`He said, 'Hello!'`\n",
        "\n",
        "`She exclaimed, \"Wow!\"`\n",
        "\n",
        "`Overwrite This text.`\n",
        "\n",
        "`Remove This`"
      ],
      "id": "06IcwfLcCXRu"
    },
    {
      "cell_type": "code",
      "execution_count": null,
      "metadata": {
        "id": "HwOuVP7tCXRv"
      },
      "outputs": [],
      "source": [
        "# Your solution here..."
      ],
      "id": "HwOuVP7tCXRv"
    },
    {
      "cell_type": "code",
      "execution_count": null,
      "metadata": {
        "id": "RNpW61ewCXRv"
      },
      "outputs": [],
      "source": [
        "# Solution for Example 3\n",
        "# Creating a multiline string using special characters\n",
        "multiline_string = '''John, Age: 30\n",
        "This is a multiline string.\n",
        "Name:\\tJohn\n",
        "Age:\\t30\n",
        "This is a backslash: \\\\\n",
        "He said, 'Hello!'\n",
        "She exclaimed, \"Wow!\"\n",
        "Overwrite\\rThis text.\n",
        "Remove\\b This\n",
        "'''\n",
        "\n",
        "# Printing the multiline string\n",
        "print(multiline_string)\n"
      ],
      "id": "RNpW61ewCXRv"
    },
    {
      "cell_type": "markdown",
      "id": "e9956efe",
      "metadata": {
        "tags": [],
        "id": "e9956efe"
      },
      "source": [
        "## Summary\n",
        "\n",
        "Strings in Python represent text and can be created with single or double quotes. They are sequences of characters, accessed through positive or negative indexing. Strings are immutable, meaning they can't be changed in place, but new strings can be created based on the original. The `print()` function is essential for displaying information. Special characters enhance string flexibility, and string manipulation includes techniques like concatenation, replication, and slicing."
      ]
    },
    {
      "cell_type": "markdown",
      "id": "26fd094b-0fee-46f1-a4b8-73766813c42b",
      "metadata": {
        "tags": [],
        "id": "26fd094b-0fee-46f1-a4b8-73766813c42b"
      },
      "source": [
        "#  \n",
        "\n",
        "<div align=\"center\" style=\" font-size: 80%; text-align: center; margin: 0 auto\">\n",
        "<img src=\"https://raw.githubusercontent.com/Explore-AI/Pictures/refs/heads/master/ALX_banners/ALX_Navy.png\"  style=\"width:140px\";/>\n",
        "</div>"
      ]
    }
  ],
  "metadata": {
    "kernelspec": {
      "display_name": "Python 3 (ipykernel)",
      "language": "python",
      "name": "python3"
    },
    "language_info": {
      "codemirror_mode": {
        "name": "ipython",
        "version": 3
      },
      "file_extension": ".py",
      "mimetype": "text/x-python",
      "name": "python",
      "nbconvert_exporter": "python",
      "pygments_lexer": "ipython3",
      "version": "3.9.6"
    },
    "colab": {
      "provenance": [],
      "include_colab_link": true
    }
  },
  "nbformat": 4,
  "nbformat_minor": 5
}